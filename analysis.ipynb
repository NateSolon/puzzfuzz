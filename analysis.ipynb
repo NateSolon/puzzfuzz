{
 "cells": [
  {
   "cell_type": "code",
   "execution_count": 1,
   "id": "94410947-bfcf-4432-bd0e-c4fea36f1a6a",
   "metadata": {},
   "outputs": [],
   "source": [
    "%load_ext autoreload\n",
    "%autoreload 2"
   ]
  },
  {
   "cell_type": "code",
   "execution_count": 2,
   "id": "250b3e5d-9508-46ad-9a00-bcceb23fe4f4",
   "metadata": {},
   "outputs": [],
   "source": [
    "from puzzle_db import *\n",
    "from real_games import *"
   ]
  },
  {
   "cell_type": "code",
   "execution_count": 3,
   "id": "fc06d245-aca5-40d1-bc52-7260b4d77cd4",
   "metadata": {},
   "outputs": [],
   "source": [
    "download_puzzle_db()"
   ]
  },
  {
   "cell_type": "code",
   "execution_count": 4,
   "id": "f55729d5-efde-4edc-8da0-162a434ee2dc",
   "metadata": {},
   "outputs": [],
   "source": [
    "puzzles = process_puzzle_db()"
   ]
  },
  {
   "cell_type": "code",
   "execution_count": 5,
   "id": "53787d2c-d097-43ac-ab03-f0ed6d2c6e51",
   "metadata": {},
   "outputs": [
    {
     "data": {
      "text/plain": [
       "(59651, 10)"
      ]
     },
     "execution_count": 5,
     "metadata": {},
     "output_type": "execute_result"
    }
   ],
   "source": [
    "puzzles.shape"
   ]
  },
  {
   "cell_type": "code",
   "execution_count": 6,
   "id": "6bc2380e-1359-4839-80e3-d9e9fec57e68",
   "metadata": {},
   "outputs": [],
   "source": [
    "puzzles.to_csv(\"data/puzzles.csv\", index=False)"
   ]
  },
  {
   "cell_type": "code",
   "execution_count": 7,
   "id": "64dc6fd2-2036-47c1-a308-5dfe784cdbd8",
   "metadata": {},
   "outputs": [],
   "source": [
    "puzzles = puzzles.sample(100)"
   ]
  },
  {
   "cell_type": "code",
   "execution_count": 8,
   "id": "d90040e0-9f99-4a90-9a97-0a3f780390d7",
   "metadata": {},
   "outputs": [
    {
     "data": {
      "text/plain": [
       "(100, 10)"
      ]
     },
     "execution_count": 8,
     "metadata": {},
     "output_type": "execute_result"
    }
   ],
   "source": [
    "puzzles.shape"
   ]
  },
  {
   "cell_type": "code",
   "execution_count": 9,
   "id": "4fe64e22-5d1d-4fe5-b299-8761d61779f6",
   "metadata": {},
   "outputs": [
    {
     "name": "stdout",
     "output_type": "stream",
     "text": [
      "10\n",
      "20\n",
      "30\n",
      "40\n",
      "50\n",
      "60\n",
      "70\n",
      "80\n",
      "90\n",
      "100\n"
     ]
    }
   ],
   "source": [
    "real_games = add_real_game_data(puzzles)"
   ]
  },
  {
   "cell_type": "code",
   "execution_count": 10,
   "id": "1332ef7f-7e0f-4db9-af6a-8c0ee694b6a9",
   "metadata": {},
   "outputs": [
    {
     "data": {
      "text/plain": [
       "(100, 13)"
      ]
     },
     "execution_count": 10,
     "metadata": {},
     "output_type": "execute_result"
    }
   ],
   "source": [
    "real_games.shape"
   ]
  },
  {
   "cell_type": "code",
   "execution_count": 11,
   "id": "4b3e756f-5991-48dd-802e-e31ce7b8b547",
   "metadata": {},
   "outputs": [],
   "source": [
    "real_games.to_csv(\"data/real_games.csv\", index=False)"
   ]
  },
  {
   "cell_type": "code",
   "execution_count": 12,
   "id": "4470b41f-eb88-4c9d-8d68-dd9e051f25e6",
   "metadata": {},
   "outputs": [],
   "source": [
    "real_games = real_games[real_games[\"Total\"] >= 10].copy()"
   ]
  },
  {
   "cell_type": "code",
   "execution_count": 14,
   "id": "7d372975-9038-450a-9278-58231dbbf26e",
   "metadata": {},
   "outputs": [],
   "source": [
    "final = puzzfuzz(real_games)"
   ]
  },
  {
   "cell_type": "code",
   "execution_count": 15,
   "id": "079080d6-6c32-4499-8575-ec2ebd8ba5a2",
   "metadata": {},
   "outputs": [
    {
     "data": {
      "text/plain": [
       "(27, 15)"
      ]
     },
     "execution_count": 15,
     "metadata": {},
     "output_type": "execute_result"
    }
   ],
   "source": [
    "final.shape"
   ]
  },
  {
   "cell_type": "code",
   "execution_count": 16,
   "id": "4262fc27-fcec-4b2e-9c3c-5f3c41011189",
   "metadata": {},
   "outputs": [],
   "source": [
    "final.to_csv(\"data/final.csv\", index=False)"
   ]
  },
  {
   "cell_type": "code",
   "execution_count": null,
   "id": "f34a7bb3-92eb-4d87-ad01-aa6f5fd62bbd",
   "metadata": {},
   "outputs": [],
   "source": []
  }
 ],
 "metadata": {
  "kernelspec": {
   "display_name": "Python 3",
   "language": "python",
   "name": "python3"
  },
  "language_info": {
   "codemirror_mode": {
    "name": "ipython",
    "version": 3
   },
   "file_extension": ".py",
   "mimetype": "text/x-python",
   "name": "python",
   "nbconvert_exporter": "python",
   "pygments_lexer": "ipython3",
   "version": "3.9.2"
  }
 },
 "nbformat": 4,
 "nbformat_minor": 5
}
